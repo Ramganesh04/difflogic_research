{
 "cells": [
  {
   "cell_type": "code",
   "execution_count": null,
   "id": "d37f466c",
   "metadata": {},
   "outputs": [],
   "source": [
    "import torch\n",
    "def get_unique_connections(in_dim, out_dim, device='cuda'):\n",
    "    assert out_dim * 2 >= in_dim, 'The number of neurons ({}) must not be smaller than half of the number of inputs ' \\\n",
    "                                  '({}) because otherwise not all inputs could be used or considered.'.format(\n",
    "        out_dim, in_dim\n",
    "    )\n",
    "    assert out_dim > 0 and in_dim > 0 , \"Dimensions should be greated than 0\"\n",
    "\n",
    "    x = torch.arange(in_dim).long().unsqueeze(0)\n",
    "\n",
    "    # Take pairs (0, 1), (2, 3), (4, 5), ...\n",
    "    a, b = x[..., ::2], x[..., 1::2]\n",
    "    if a.shape[-1] != b.shape[-1]:\n",
    "        m = min(a.shape[-1], b.shape[-1])\n",
    "        a = a[..., :m]\n",
    "        b = b[..., :m]\n",
    "\n",
    "    # If this was not enough, take pairs (1, 2), (3, 4), (5, 6), ...\n",
    "    if a.shape[-1] < out_dim:\n",
    "        a_, b_ = x[..., 1::2], x[..., 2::2]\n",
    "        a = torch.cat([a, a_], dim=-1)\n",
    "        b = torch.cat([b, b_], dim=-1)\n",
    "        if a.shape[-1] != b.shape[-1]:\n",
    "            m = min(a.shape[-1], b.shape[-1])\n",
    "            a = a[..., :m]\n",
    "            b = b[..., :m]\n",
    "\n",
    "    # If this was not enough, take pairs with offsets >= 2:\n",
    "    offset = 2\n",
    "    while out_dim > a.shape[-1] > offset:\n",
    "        a_, b_ = x[..., :-offset], x[..., offset:]\n",
    "        a = torch.cat([a, a_], dim=-1)\n",
    "        b = torch.cat([b, b_], dim=-1)\n",
    "        offset += 1\n",
    "        assert a.shape[-1] == b.shape[-1], (a.shape[-1], b.shape[-1])\n",
    "\n",
    "    if a.shape[-1] >= out_dim:\n",
    "        a = a[..., :out_dim]\n",
    "        b = b[..., :out_dim]\n",
    "    else:\n",
    "        assert False, (a.shape[-1], offset, out_dim)\n",
    "\n",
    "    perm = torch.randperm(out_dim)\n",
    "\n",
    "    a = a[:, perm].squeeze(0)\n",
    "    b = b[:, perm].squeeze(0)\n",
    "\n",
    "    a, b = a.to(torch.int64), b.to(torch.int64)\n",
    "    a, b = a.to(device), b.to(device)\n",
    "    a, b = a.contiguous(), b.contiguous()\n",
    "    return a, b\n"
   ]
  },
  {
   "cell_type": "code",
   "execution_count": 3,
   "id": "9278a165",
   "metadata": {},
   "outputs": [
    {
     "ename": "RuntimeError",
     "evalue": "upper bound and larger bound inconsistent with step sign",
     "output_type": "error",
     "traceback": [
      "\u001b[0;31m---------------------------------------------------------------------------\u001b[0m",
      "\u001b[0;31mRuntimeError\u001b[0m                              Traceback (most recent call last)",
      "Cell \u001b[0;32mIn[3], line 1\u001b[0m\n\u001b[0;32m----> 1\u001b[0m \u001b[43mget_unique_connections\u001b[49m\u001b[43m(\u001b[49m\u001b[38;5;241;43m-\u001b[39;49m\u001b[38;5;241;43m2\u001b[39;49m\u001b[43m,\u001b[49m\u001b[38;5;241;43m-\u001b[39;49m\u001b[38;5;241;43m1\u001b[39;49m\u001b[43m)\u001b[49m\n",
      "Cell \u001b[0;32mIn[1], line 8\u001b[0m, in \u001b[0;36mget_unique_connections\u001b[0;34m(in_dim, out_dim, device)\u001b[0m\n\u001b[1;32m      2\u001b[0m \u001b[38;5;28;01mdef\u001b[39;00m \u001b[38;5;21mget_unique_connections\u001b[39m(in_dim, out_dim, device\u001b[38;5;241m=\u001b[39m\u001b[38;5;124m'\u001b[39m\u001b[38;5;124mcuda\u001b[39m\u001b[38;5;124m'\u001b[39m):\n\u001b[1;32m      3\u001b[0m     \u001b[38;5;28;01massert\u001b[39;00m out_dim \u001b[38;5;241m*\u001b[39m \u001b[38;5;241m2\u001b[39m \u001b[38;5;241m>\u001b[39m\u001b[38;5;241m=\u001b[39m in_dim, \u001b[38;5;124m'\u001b[39m\u001b[38;5;124mThe number of neurons (\u001b[39m\u001b[38;5;132;01m{}\u001b[39;00m\u001b[38;5;124m) must not be smaller than half of the number of inputs \u001b[39m\u001b[38;5;124m'\u001b[39m \\\n\u001b[1;32m      4\u001b[0m                                   \u001b[38;5;124m'\u001b[39m\u001b[38;5;124m(\u001b[39m\u001b[38;5;132;01m{}\u001b[39;00m\u001b[38;5;124m) because otherwise not all inputs could be used or considered.\u001b[39m\u001b[38;5;124m'\u001b[39m\u001b[38;5;241m.\u001b[39mformat(\n\u001b[1;32m      5\u001b[0m         out_dim, in_dim\n\u001b[1;32m      6\u001b[0m     )\n\u001b[0;32m----> 8\u001b[0m     x \u001b[38;5;241m=\u001b[39m \u001b[43mtorch\u001b[49m\u001b[38;5;241;43m.\u001b[39;49m\u001b[43marange\u001b[49m\u001b[43m(\u001b[49m\u001b[43min_dim\u001b[49m\u001b[43m)\u001b[49m\u001b[38;5;241m.\u001b[39mlong()\u001b[38;5;241m.\u001b[39munsqueeze(\u001b[38;5;241m0\u001b[39m)\n\u001b[1;32m     10\u001b[0m     \u001b[38;5;66;03m# Take pairs (0, 1), (2, 3), (4, 5), ...\u001b[39;00m\n\u001b[1;32m     11\u001b[0m     a, b \u001b[38;5;241m=\u001b[39m x[\u001b[38;5;241m.\u001b[39m\u001b[38;5;241m.\u001b[39m\u001b[38;5;241m.\u001b[39m, ::\u001b[38;5;241m2\u001b[39m], x[\u001b[38;5;241m.\u001b[39m\u001b[38;5;241m.\u001b[39m\u001b[38;5;241m.\u001b[39m, \u001b[38;5;241m1\u001b[39m::\u001b[38;5;241m2\u001b[39m]\n",
      "\u001b[0;31mRuntimeError\u001b[0m: upper bound and larger bound inconsistent with step sign"
     ]
    }
   ],
   "source": [
    "get_unique_connections(-2,-1)"
   ]
  },
  {
   "cell_type": "code",
   "execution_count": null,
   "id": "d5ab5b83",
   "metadata": {},
   "outputs": [],
   "source": []
  }
 ],
 "metadata": {
  "kernelspec": {
   "display_name": ".venv",
   "language": "python",
   "name": "python3"
  },
  "language_info": {
   "codemirror_mode": {
    "name": "ipython",
    "version": 3
   },
   "file_extension": ".py",
   "mimetype": "text/x-python",
   "name": "python",
   "nbconvert_exporter": "python",
   "pygments_lexer": "ipython3",
   "version": "3.12.3"
  }
 },
 "nbformat": 4,
 "nbformat_minor": 5
}
